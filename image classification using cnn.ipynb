{
 "cells": [
  {
   "cell_type": "code",
   "execution_count": 4,
   "id": "51494441",
   "metadata": {},
   "outputs": [],
   "source": [
    "import pandas as pd\n",
    "import numpy as np\n",
    "import tensorflow as tf\n",
    "from tensorflow.keras import datasets,layers,models\n",
    "import matplotlib.pyplot as plt\n",
    "%matplotlib inline"
   ]
  },
  {
   "cell_type": "code",
   "execution_count": 5,
   "id": "76ce9a51",
   "metadata": {},
   "outputs": [],
   "source": [
    "(x_train,y_train),(x_test,y_test)=datasets.cifar10.load_data()"
   ]
  },
  {
   "cell_type": "code",
   "execution_count": null,
   "id": "d69d290e",
   "metadata": {},
   "outputs": [],
   "source": []
  },
  {
   "cell_type": "code",
   "execution_count": 6,
   "id": "13a647b5",
   "metadata": {},
   "outputs": [
    {
     "data": {
      "text/plain": [
       "(50000, 32, 32, 3)"
      ]
     },
     "execution_count": 6,
     "metadata": {},
     "output_type": "execute_result"
    }
   ],
   "source": [
    "x_train.shape"
   ]
  },
  {
   "cell_type": "code",
   "execution_count": 7,
   "id": "333fe7ec",
   "metadata": {},
   "outputs": [
    {
     "data": {
      "text/plain": [
       "<matplotlib.image.AxesImage at 0x2f3c4d54790>"
      ]
     },
     "execution_count": 7,
     "metadata": {},
     "output_type": "execute_result"
    },
    {
     "data": {
      "image/png": "[encoded data removed]",
      "text/plain": [
       "<Figure size 432x288 with 1 Axes>"
      ]
     },
     "metadata": {
      "needs_background": "light"
     },
     "output_type": "display_data"
    }
   ],
   "source": [
    "plt.imshow(x_train[0])"
   ]
  },
  {
   "cell_type": "code",
   "execution_count": 8,
   "id": "9bdcdaca",
   "metadata": {},
   "outputs": [],
   "source": [
    "classes = [\"airplane\",\"automobile\",\"bird\",\"cat\",\"deer\",\"dog\",\"frog\",\"horse\",\"ship\",\"truck\"]"
   ]
  },
  {
   "cell_type": "code",
   "execution_count": 10,
   "id": "0c7ebe3f",
   "metadata": {},
   "outputs": [],
   "source": [
    "y_train=y_train.reshape(-1,)"
   ]
  },
  {
   "cell_type": "code",
   "execution_count": 11,
   "id": "30591cb7",
   "metadata": {},
   "outputs": [
    {
     "data": {
      "text/plain": [
       "array([6, 9, 9, 4, 1], dtype=uint8)"
      ]
     },
     "execution_count": 11,
     "metadata": {},
     "output_type": "execute_result"
    }
   ],
   "source": [
    "y_train[:5]"
   ]
  },
  {
   "cell_type": "code",
   "execution_count": 12,
   "id": "2a160e31",
   "metadata": {},
   "outputs": [],
   "source": [
    "def classnames(x,y,index):\n",
    "    plt.figure(figsize=(15,2))\n",
    "    plt.imshow(x[index])\n",
    "    plt.xlabel(classes[y[index]])"
   ]
  },
  {
   "cell_type": "code",
   "execution_count": 14,
   "id": "b5464d0a",
   "metadata": {},
   "outputs": [
    {
     "data": {
      "image/png": "[encoded data removed]",
      "text/plain": [
       "<Figure size 1080x144 with 1 Axes>"
      ]
     },
     "metadata": {
      "needs_background": "light"
     },
     "output_type": "display_data"
    }
   ],
   "source": [
    "classnames(x_train,y_train,5)"
   ]
  },
  {
   "cell_type": "code",
   "execution_count": 15,
   "id": "d4d6ab89",
   "metadata": {},
   "outputs": [],
   "source": [
    "#when you have value you use cross categorical crossentropy\n",
    "#and when you have image classification you use categorical crossentropy"
   ]
  },
  {
   "cell_type": "code",
   "execution_count": 16,
   "id": "75e666e0",
   "metadata": {},
   "outputs": [],
   "source": [
    "x_train=x_train/255\n",
    "x_test=x_test/255"
   ]
  },
  {
   "cell_type": "code",
   "execution_count": 19,
   "id": "53ec4bb3",
   "metadata": {},
   "outputs": [
    {
     "name": "stdout",
     "output_type": "stream",
     "text": [
      "Epoch 1/5\n",
      "1563/1563 [==============================] - 141s 90ms/step - loss: 1.8565 - accuracy: 0.3374\n",
      "Epoch 2/5\n",
      "1563/1563 [==============================] - 164s 105ms/step - loss: 1.6582 - accuracy: 0.4140\n",
      "Epoch 3/5\n",
      "1563/1563 [==============================] - 168s 108ms/step - loss: 1.5713 - accuracy: 0.4447\n",
      "Epoch 4/5\n",
      "1563/1563 [==============================] - 163s 104ms/step - loss: 1.5099 - accuracy: 0.4657\n",
      "Epoch 5/5\n",
      "1563/1563 [==============================] - 161s 103ms/step - loss: 1.4557 - accuracy: 0.4858\n"
     ]
    },
    {
     "data": {
      "text/plain": [
       "<tensorflow.python.keras.callbacks.History at 0x2f3baf864f0>"
      ]
     },
     "execution_count": 19,
     "metadata": {},
     "output_type": "execute_result"
    }
   ],
   "source": [
    "ann=models.Sequential([\n",
    "    layers.Flatten(input_shape=(32,32,3)),\n",
    "    layers.Dense(3000,activation='relu'),\n",
    "    layers.Dense(1000,activation='relu'),\n",
    "    layers.Dense(10,activation='sigmoid')\n",
    "])\n",
    "ann.compile(optimizer='SGD',\n",
    "           loss='sparse_categorical_crossentropy',\n",
    "           metrics=['accuracy'])\n",
    "ann.fit(x_train,y_train,epochs=5)"
   ]
  },
  {
   "cell_type": "code",
   "execution_count": 20,
   "id": "57835a5b",
   "metadata": {},
   "outputs": [
    {
     "name": "stdout",
     "output_type": "stream",
     "text": [
      "Classification Report: \n",
      "               precision    recall  f1-score   support\n",
      "\n",
      "           0       0.51      0.49      0.50      1000\n",
      "           1       0.46      0.71      0.56      1000\n",
      "           2       0.37      0.31      0.34      1000\n",
      "           3       0.39      0.28      0.32      1000\n",
      "           4       0.48      0.35      0.41      1000\n",
      "           5       0.52      0.25      0.33      1000\n",
      "           6       0.50      0.58      0.53      1000\n",
      "           7       0.67      0.41      0.51      1000\n",
      "           8       0.43      0.77      0.55      1000\n",
      "           9       0.45      0.52      0.48      1000\n",
      "\n",
      "    accuracy                           0.47     10000\n",
      "   macro avg       0.48      0.47      0.45     10000\n",
      "weighted avg       0.48      0.47      0.45     10000\n",
      "\n"
     ]
    }
   ],
   "source": [
    "from sklearn.metrics import confusion_matrix , classification_report\n",
    "import numpy as np\n",
    "y_pred = ann.predict(x_test)\n",
    "y_pred_classes = [np.argmax(element) for element in y_pred]\n",
    "\n",
    "print(\"Classification Report: \\n\", classification_report(y_test, y_pred_classes))"
   ]
  },
  {
   "cell_type": "code",
   "execution_count": 26,
   "id": "db5f4086",
   "metadata": {},
   "outputs": [],
   "source": [
    "cnn=models.Sequential([\n",
    "    layers.Conv2D(filters=32,kernel_size=(3,3),activation='relu',input_shape=(32,32,3)),\n",
    "    layers.MaxPooling2D((2,2)),\n",
    "    \n",
    "    layers.Conv2D(filters=64,kernel_size=(3,3),activation='relu'),\n",
    "    layers.MaxPooling2D((2,2)),\n",
    "    \n",
    "    layers.Flatten(),\n",
    "    layers.Dense(64,activation='relu'),\n",
    "    layers.Dense(10,activation='softmax')\n",
    "])"
   ]
  },
  {
   "cell_type": "code",
   "execution_count": 28,
   "id": "51c0f0f6",
   "metadata": {},
   "outputs": [],
   "source": [
    "cnn.compile(optimizer='adam',\n",
    "            loss='sparse_categorical_crossentropy',\n",
    "            metrics=['accuracy'])"
   ]
  },
  {
   "cell_type": "code",
   "execution_count": 29,
   "id": "38465600",
   "metadata": {},
   "outputs": [
    {
     "name": "stdout",
     "output_type": "stream",
     "text": [
      "Epoch 1/10\n",
      "1563/1563 [==============================] - 33s 21ms/step - loss: 1.4675 - accuracy: 0.4746\n",
      "Epoch 2/10\n",
      "1563/1563 [==============================] - 50s 32ms/step - loss: 1.1271 - accuracy: 0.60660s - los\n",
      "Epoch 3/10\n",
      "1563/1563 [==============================] - 52s 34ms/step - loss: 1.0062 - accuracy: 0.6482\n",
      "Epoch 4/10\n",
      "1563/1563 [==============================] - 53s 34ms/step - loss: 0.9261 - accuracy: 0.6777\n",
      "Epoch 5/10\n",
      "1563/1563 [==============================] - 52s 33ms/step - loss: 0.8650 - accuracy: 0.7003\n",
      "Epoch 6/10\n",
      "1563/1563 [==============================] - 54s 34ms/step - loss: 0.8125 - accuracy: 0.7159\n",
      "Epoch 7/10\n",
      "1563/1563 [==============================] - 53s 34ms/step - loss: 0.7678 - accuracy: 0.7330\n",
      "Epoch 8/10\n",
      "1563/1563 [==============================] - 52s 33ms/step - loss: 0.7270 - accuracy: 0.7459\n",
      "Epoch 9/10\n",
      "1563/1563 [==============================] - 57s 37ms/step - loss: 0.6981 - accuracy: 0.7555\n",
      "Epoch 10/10\n",
      "1563/1563 [==============================] - 58s 37ms/step - loss: 0.6638 - accuracy: 0.7688\n"
     ]
    },
    {
     "data": {
      "text/plain": [
       "<tensorflow.python.keras.callbacks.History at 0x2f3bc5c3ac0>"
      ]
     },
     "execution_count": 29,
     "metadata": {},
     "output_type": "execute_result"
    }
   ],
   "source": [
    "cnn.fit(x_train,y_train,epochs=10)"
   ]
  },
  {
   "cell_type": "code",
   "execution_count": 30,
   "id": "86c34242",
   "metadata": {},
   "outputs": [
    {
     "name": "stdout",
     "output_type": "stream",
     "text": [
      "313/313 [==============================] - 3s 11ms/step - loss: 0.9086 - accuracy: 0.6941\n"
     ]
    },
    {
     "data": {
      "text/plain": [
       "[0.9086248874664307, 0.694100022315979]"
      ]
     },
     "execution_count": 30,
     "metadata": {},
     "output_type": "execute_result"
    }
   ],
   "source": [
    "cnn.evaluate(x_test,y_test)"
   ]
  },
  {
   "cell_type": "code",
   "execution_count": 33,
   "id": "997af0ee",
   "metadata": {},
   "outputs": [
    {
     "data": {
      "text/plain": [
       "array([3, 8, 8, 0, 6], dtype=uint8)"
      ]
     },
     "execution_count": 33,
     "metadata": {},
     "output_type": "execute_result"
    }
   ],
   "source": [
    "y_test=y_test.reshape(-1,)\n",
    "y_test[:5]"
   ]
  },
  {
   "cell_type": "code",
   "execution_count": 34,
   "id": "a2c7bc0e",
   "metadata": {},
   "outputs": [
    {
     "data": {
      "image/png": "[encoded data removed]",
      "text/plain": [
       "<Figure size 1080x144 with 1 Axes>"
      ]
     },
     "metadata": {
      "needs_background": "light"
     },
     "output_type": "display_data"
    }
   ],
   "source": [
    "classnames(x_train,y_train,4)"
   ]
  },
  {
   "cell_type": "code",
   "execution_count": 35,
   "id": "2c9f5790",
   "metadata": {},
   "outputs": [],
   "source": [
    "y_pred=cnn.predict(x_test)"
   ]
  },
  {
   "cell_type": "code",
   "execution_count": 36,
   "id": "b180d05d",
   "metadata": {},
   "outputs": [
    {
     "data": {
      "text/plain": [
       "[3, 8, 8, 0, 4]"
      ]
     },
     "execution_count": 36,
     "metadata": {},
     "output_type": "execute_result"
    }
   ],
   "source": [
    "y_classes=[np.argmax(element) for element in y_pred]\n",
    "y_classes[:5]"
   ]
  },
  {
   "cell_type": "code",
   "execution_count": 37,
   "id": "f7c0c7d3",
   "metadata": {},
   "outputs": [
    {
     "data": {
      "text/plain": [
       "array([3, 8, 8, 0, 6], dtype=uint8)"
      ]
     },
     "execution_count": 37,
     "metadata": {},
     "output_type": "execute_result"
    }
   ],
   "source": [
    "y_test[:5]"
   ]
  },
  {
   "cell_type": "code",
   "execution_count": 42,
   "id": "3e2766c1",
   "metadata": {},
   "outputs": [
    {
     "data": {
      "image/png": "[encoded data removed]",
      "text/plain": [
       "<Figure size 1080x144 with 1 Axes>"
      ]
     },
     "metadata": {
      "needs_background": "light"
     },
     "output_type": "display_data"
    }
   ],
   "source": [
    "classnames(x_test,y_test,2)"
   ]
  },
  {
   "cell_type": "code",
   "execution_count": 41,
   "id": "b3b01eba",
   "metadata": {},
   "outputs": [
    {
     "data": {
      "text/plain": [
       "'ship'"
      ]
     },
     "execution_count": 41,
     "metadata": {},
     "output_type": "execute_result"
    }
   ],
   "source": [
    "classes[y_classes[2]]"
   ]
  },
  {
   "cell_type": "code",
   "execution_count": 43,
   "id": "1aa71b31",
   "metadata": {},
   "outputs": [
    {
     "name": "stdout",
     "output_type": "stream",
     "text": [
      "Classification Report: \n",
      "               precision    recall  f1-score   support\n",
      "\n",
      "           0       0.70      0.77      0.73      1000\n",
      "           1       0.77      0.83      0.80      1000\n",
      "           2       0.58      0.61      0.60      1000\n",
      "           3       0.49      0.52      0.50      1000\n",
      "           4       0.69      0.57      0.63      1000\n",
      "           5       0.67      0.52      0.58      1000\n",
      "           6       0.70      0.83      0.76      1000\n",
      "           7       0.76      0.75      0.75      1000\n",
      "           8       0.81      0.79      0.80      1000\n",
      "           9       0.79      0.75      0.77      1000\n",
      "\n",
      "    accuracy                           0.69     10000\n",
      "   macro avg       0.70      0.69      0.69     10000\n",
      "weighted avg       0.70      0.69      0.69     10000\n",
      "\n"
     ]
    }
   ],
   "source": [
    "print(\"Classification Report: \\n\", classification_report(y_test, y_classes))"
   ]
  },
  {
   "cell_type": "code",
   "execution_count": null,
   "id": "563dc776",
   "metadata": {},
   "outputs": [],
   "source": []
  }
 ],
 "metadata": {
  "kernelspec": {
   "display_name": "Python 3",
   "language": "python",
   "name": "python3"
  },
  "language_info": {
   "codemirror_mode": {
    "name": "ipython",
    "version": 3
   },
   "file_extension": ".py",
   "mimetype": "text/x-python",
   "name": "python",
   "nbconvert_exporter": "python",
   "pygments_lexer": "ipython3",
   "version": "3.8.10"
  }
 },
 "nbformat": 4,
 "nbformat_minor": 5
}
