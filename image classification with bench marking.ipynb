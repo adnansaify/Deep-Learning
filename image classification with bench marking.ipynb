{
 "cells": [
  {
   "cell_type": "code",
   "execution_count": 2,
   "id": "7953d8a4",
   "metadata": {},
   "outputs": [],
   "source": [
    "import pandas \n",
    "import matplotlib.pyplot as plt\n",
    "import tensorflow as tf\n",
    "from tensorflow import keras\n",
    "import numpy as np\n",
    "%matplotlib inline"
   ]
  },
  {
   "cell_type": "code",
   "execution_count": 3,
   "id": "96cc575f",
   "metadata": {},
   "outputs": [
    {
     "data": {
      "text/plain": [
       "[PhysicalDevice(name='/physical_device:CPU:0', device_type='CPU')]"
      ]
     },
     "execution_count": 3,
     "metadata": {},
     "output_type": "execute_result"
    }
   ],
   "source": [
    "tf.config.experimental.list_physical_devices()"
   ]
  },
  {
   "cell_type": "code",
   "execution_count": 4,
   "id": "a56cd0e1",
   "metadata": {},
   "outputs": [
    {
     "data": {
      "text/plain": [
       "False"
      ]
     },
     "execution_count": 4,
     "metadata": {},
     "output_type": "execute_result"
    }
   ],
   "source": [
    "tf.test.is_built_with_cuda()"
   ]
  },
  {
   "cell_type": "code",
   "execution_count": 5,
   "id": "ed1d2598",
   "metadata": {},
   "outputs": [
    {
     "name": "stdout",
     "output_type": "stream",
     "text": [
      "Downloading data from https://www.cs.toronto.edu/~kriz/cifar-10-python.tar.gz\n",
      "170500096/170498071 [==============================] - 134s 1us/step\n"
     ]
    }
   ],
   "source": [
    "(x_train,y_train),(x_test,y_test)=tf.keras.datasets.cifar10.load_data()"
   ]
  },
  {
   "cell_type": "code",
   "execution_count": 6,
   "id": "2eb14013",
   "metadata": {},
   "outputs": [
    {
     "data": {
      "text/plain": [
       "(50000, 32, 32, 3)"
      ]
     },
     "execution_count": 6,
     "metadata": {},
     "output_type": "execute_result"
    }
   ],
   "source": [
    "x_train.shape"
   ]
  },
  {
   "cell_type": "code",
   "execution_count": 7,
   "id": "ee2511f5",
   "metadata": {},
   "outputs": [
    {
     "data": {
      "text/plain": [
       "(50000, 1)"
      ]
     },
     "execution_count": 7,
     "metadata": {},
     "output_type": "execute_result"
    }
   ],
   "source": [
    "y_train.shape"
   ]
  },
  {
   "cell_type": "code",
   "execution_count": 11,
   "id": "a83750a8",
   "metadata": {},
   "outputs": [
    {
     "data": {
      "text/plain": [
       "array([[6],\n",
       "       [9],\n",
       "       [9],\n",
       "       [4],\n",
       "       [1]], dtype=uint8)"
      ]
     },
     "execution_count": 11,
     "metadata": {},
     "output_type": "execute_result"
    }
   ],
   "source": [
    "y_train[0:5]"
   ]
  },
  {
   "cell_type": "code",
   "execution_count": 16,
   "id": "048b18c7",
   "metadata": {},
   "outputs": [],
   "source": [
    "def plot_sample(index):\n",
    "    plt.figure(figsize=(10,1))\n",
    "    plt.imshow(x_train[index])"
   ]
  },
  {
   "cell_type": "code",
   "execution_count": 17,
   "id": "bed39b8e",
   "metadata": {},
   "outputs": [
    {
     "data": {
      "image/png": "[encoded data removed]",
      "text/plain": [
       "<Figure size 720x72 with 1 Axes>"
      ]
     },
     "metadata": {
      "needs_background": "light"
     },
     "output_type": "display_data"
    }
   ],
   "source": [
    "plot_sample(1)"
   ]
  },
  {
   "cell_type": "code",
   "execution_count": 22,
   "id": "2874e02f",
   "metadata": {},
   "outputs": [],
   "source": [
    "x_train_scaled=x_train/255\n",
    "x_test_scaled=x_test/255"
   ]
  },
  {
   "cell_type": "code",
   "execution_count": 27,
   "id": "c88f18cd",
   "metadata": {},
   "outputs": [],
   "source": [
    "y_test_categorical=keras.utils.to_categorical(\n",
    "    y_test,num_classes=10,dtype='float32'\n",
    ")\n",
    "y_train_categorical=keras.utils.to_categorical(\n",
    "    y_train,num_classes=10,dtype='float32'\n",
    ")"
   ]
  },
  {
   "cell_type": "code",
   "execution_count": 28,
   "id": "b69f7836",
   "metadata": {},
   "outputs": [
    {
     "data": {
      "text/plain": [
       "array([[0., 0., 0., ..., 0., 0., 0.],\n",
       "       [0., 0., 0., ..., 0., 0., 1.],\n",
       "       [0., 0., 0., ..., 0., 0., 1.],\n",
       "       ...,\n",
       "       [0., 0., 0., ..., 0., 0., 1.],\n",
       "       [0., 1., 0., ..., 0., 0., 0.],\n",
       "       [0., 1., 0., ..., 0., 0., 0.]], dtype=float32)"
      ]
     },
     "execution_count": 28,
     "metadata": {},
     "output_type": "execute_result"
    }
   ],
   "source": [
    "y_train_categorical"
   ]
  },
  {
   "cell_type": "code",
   "execution_count": 34,
   "id": "0201acce",
   "metadata": {},
   "outputs": [
    {
     "name": "stdout",
     "output_type": "stream",
     "text": [
      "Epoch 1/50\n",
      "1563/1563 [==============================] - 138s 88ms/step - loss: 1.8592 - accuracy: 0.3341\n",
      "Epoch 2/50\n",
      "1563/1563 [==============================] - 126s 81ms/step - loss: 1.6599 - accuracy: 0.4128\n",
      "Epoch 3/50\n",
      "1563/1563 [==============================] - 118s 75ms/step - loss: 1.5695 - accuracy: 0.4466\n",
      "Epoch 4/50\n",
      "1563/1563 [==============================] - 116s 74ms/step - loss: 1.5105 - accuracy: 0.4658\n",
      "Epoch 5/50\n",
      "1563/1563 [==============================] - 117s 75ms/step - loss: 1.4588 - accuracy: 0.4841\n",
      "Epoch 6/50\n",
      "1563/1563 [==============================] - 121s 78ms/step - loss: 1.4143 - accuracy: 0.4992\n",
      "Epoch 7/50\n",
      "1563/1563 [==============================] - 116s 74ms/step - loss: 1.3738 - accuracy: 0.5170\n",
      "Epoch 8/50\n",
      "1563/1563 [==============================] - 117s 75ms/step - loss: 1.3391 - accuracy: 0.5292\n",
      "Epoch 9/50\n",
      "1563/1563 [==============================] - 116s 74ms/step - loss: 1.3082 - accuracy: 0.5408\n",
      "Epoch 10/50\n",
      "1563/1563 [==============================] - 117s 75ms/step - loss: 1.2768 - accuracy: 0.5510\n",
      "Epoch 11/50\n",
      "1563/1563 [==============================] - 104s 67ms/step - loss: 1.2462 - accuracy: 0.5608s - loss: 1.2466 - accuracy: 0.56 - ETA: 0s - loss: 1.2\n",
      "Epoch 12/50\n",
      "1563/1563 [==============================] - 108s 69ms/step - loss: 1.2190 - accuracy: 0.5717\n",
      "Epoch 13/50\n",
      "1563/1563 [==============================] - 124s 79ms/step - loss: 1.1907 - accuracy: 0.5825\n",
      "Epoch 14/50\n",
      "1563/1563 [==============================] - 115s 74ms/step - loss: 1.1635 - accuracy: 0.5936\n",
      "Epoch 15/50\n",
      "1563/1563 [==============================] - 110s 70ms/step - loss: 1.1388 - accuracy: 0.5993\n",
      "Epoch 16/50\n",
      "1563/1563 [==============================] - 112s 71ms/step - loss: 1.1123 - accuracy: 0.6104\n",
      "Epoch 17/50\n",
      "1563/1563 [==============================] - 111s 71ms/step - loss: 1.0864 - accuracy: 0.6208\n",
      "Epoch 18/50\n",
      "1563/1563 [==============================] - 108s 69ms/step - loss: 1.0638 - accuracy: 0.6289\n",
      "Epoch 19/50\n",
      "1563/1563 [==============================] - 108s 69ms/step - loss: 1.0352 - accuracy: 0.6381s\n",
      "Epoch 20/50\n",
      "1563/1563 [==============================] - 107s 68ms/step - loss: 1.0121 - accuracy: 0.6494\n",
      "Epoch 21/50\n",
      "1563/1563 [==============================] - 108s 69ms/step - loss: 0.9856 - accuracy: 0.6580\n",
      "Epoch 22/50\n",
      "1563/1563 [==============================] - 108s 69ms/step - loss: 0.9615 - accuracy: 0.6661\n",
      "Epoch 23/50\n",
      "1563/1563 [==============================] - 109s 70ms/step - loss: 0.9340 - accuracy: 0.6738\n",
      "Epoch 24/50\n",
      "1563/1563 [==============================] - 109s 70ms/step - loss: 0.9104 - accuracy: 0.6845\n",
      "Epoch 25/50\n",
      "1563/1563 [==============================] - 108s 69ms/step - loss: 0.8887 - accuracy: 0.6912\n",
      "Epoch 26/50\n",
      "1563/1563 [==============================] - 108s 69ms/step - loss: 0.8632 - accuracy: 0.7013\n",
      "Epoch 27/50\n",
      "1563/1563 [==============================] - 111s 71ms/step - loss: 0.8367 - accuracy: 0.7132\n",
      "Epoch 28/50\n",
      "1563/1563 [==============================] - 109s 70ms/step - loss: 0.8136 - accuracy: 0.7197\n",
      "Epoch 29/50\n",
      "1563/1563 [==============================] - 109s 70ms/step - loss: 0.7892 - accuracy: 0.7280\n",
      "Epoch 30/50\n",
      "1563/1563 [==============================] - 111s 71ms/step - loss: 0.7651 - accuracy: 0.7359\n",
      "Epoch 31/50\n",
      "1563/1563 [==============================] - 109s 70ms/step - loss: 0.7393 - accuracy: 0.7467\n",
      "Epoch 32/50\n",
      "1563/1563 [==============================] - 108s 69ms/step - loss: 0.7146 - accuracy: 0.7547\n",
      "Epoch 33/50\n",
      "1563/1563 [==============================] - 108s 69ms/step - loss: 0.6946 - accuracy: 0.7623\n",
      "Epoch 34/50\n",
      "1563/1563 [==============================] - 109s 69ms/step - loss: 0.6686 - accuracy: 0.7705\n",
      "Epoch 35/50\n",
      "1563/1563 [==============================] - 109s 70ms/step - loss: 0.6444 - accuracy: 0.7810\n",
      "Epoch 36/50\n",
      "1563/1563 [==============================] - 108s 69ms/step - loss: 0.6232 - accuracy: 0.7901\n",
      "Epoch 37/50\n",
      "1563/1563 [==============================] - 109s 70ms/step - loss: 0.6002 - accuracy: 0.7958\n",
      "Epoch 38/50\n",
      "1563/1563 [==============================] - 116s 74ms/step - loss: 0.5729 - accuracy: 0.8086\n",
      "Epoch 39/50\n",
      "1563/1563 [==============================] - 114s 73ms/step - loss: 0.5518 - accuracy: 0.8143\n",
      "Epoch 40/50\n",
      "1563/1563 [==============================] - 108s 69ms/step - loss: 0.5278 - accuracy: 0.8244\n",
      "Epoch 41/50\n",
      "1563/1563 [==============================] - 106s 68ms/step - loss: 0.5020 - accuracy: 0.8344\n",
      "Epoch 42/50\n",
      "1563/1563 [==============================] - 107s 68ms/step - loss: 0.4857 - accuracy: 0.8410\n",
      "Epoch 43/50\n",
      "1563/1563 [==============================] - 106s 68ms/step - loss: 0.4640 - accuracy: 0.8481\n",
      "Epoch 44/50\n",
      "1563/1563 [==============================] - 106s 68ms/step - loss: 0.4422 - accuracy: 0.8580\n",
      "Epoch 45/50\n",
      "1563/1563 [==============================] - 106s 68ms/step - loss: 0.4221 - accuracy: 0.8627\n",
      "Epoch 46/50\n",
      "1563/1563 [==============================] - 109s 70ms/step - loss: 0.4041 - accuracy: 0.8704\n",
      "Epoch 47/50\n",
      "1563/1563 [==============================] - 109s 70ms/step - loss: 0.3847 - accuracy: 0.8762\n",
      "Epoch 48/50\n",
      "1563/1563 [==============================] - 110s 71ms/step - loss: 0.3678 - accuracy: 0.8835\n",
      "Epoch 49/50\n",
      "1563/1563 [==============================] - 111s 71ms/step - loss: 0.3477 - accuracy: 0.8888\n",
      "Epoch 50/50\n",
      "1563/1563 [==============================] - 111s 71ms/step - loss: 0.3271 - accuracy: 0.8987\n"
     ]
    },
    {
     "data": {
      "text/plain": [
       "<tensorflow.python.keras.callbacks.History at 0x2a2e9ba0670>"
      ]
     },
     "execution_count": 34,
     "metadata": {},
     "output_type": "execute_result"
    }
   ],
   "source": [
    "model=keras.Sequential([\n",
    "    keras.layers.Flatten(input_shape=(32,32,3)),\n",
    "    keras.layers.Dense(3000,activation='relu'),\n",
    "    keras.layers.Dense(1000,activation='relu'),\n",
    "    keras.layers.Dense(10,activation='sigmoid')\n",
    "])\n",
    "model.compile(optimizer='SGD',\n",
    "             loss='categorical_crossentropy',\n",
    "             metrics=['accuracy'])\n",
    "model.fit(x_train_scaled,y_train_categorical,epochs=50)"
   ]
  },
  {
   "cell_type": "code",
   "execution_count": 35,
   "id": "c985b110",
   "metadata": {},
   "outputs": [],
   "source": [
    "classes = [\"airplane\",\"automobile\",\"bird\",\"cat\",\"deer\",\"dog\",\"frog\",\"horse\",\"ship\",\"truck\"]"
   ]
  },
  {
   "cell_type": "code",
   "execution_count": 37,
   "id": "09449b31",
   "metadata": {},
   "outputs": [
    {
     "data": {
      "text/plain": [
       "'ship'"
      ]
     },
     "execution_count": 37,
     "metadata": {},
     "output_type": "execute_result"
    }
   ],
   "source": [
    "classes[np.argmax(model.predict(x_test_scaled)[1])]"
   ]
  },
  {
   "cell_type": "code",
   "execution_count": 41,
   "id": "a9800f56",
   "metadata": {},
   "outputs": [
    {
     "data": {
      "text/plain": [
       "'ship'"
      ]
     },
     "execution_count": 41,
     "metadata": {},
     "output_type": "execute_result"
    }
   ],
   "source": [
    "classes[y_test[1][0]]"
   ]
  },
  {
   "cell_type": "code",
   "execution_count": 42,
   "id": "14a28ef6",
   "metadata": {},
   "outputs": [
    {
     "name": "stdout",
     "output_type": "stream",
     "text": [
      "313/313 [==============================] - 11s 36ms/step - loss: 1.6763 - accuracy: 0.5383\n"
     ]
    },
    {
     "data": {
      "text/plain": [
       "[1.6763346195220947, 0.5382999777793884]"
      ]
     },
     "execution_count": 42,
     "metadata": {},
     "output_type": "execute_result"
    }
   ],
   "source": [
    "model.evaluate(x_test_scaled,y_test_categorical)"
   ]
  },
  {
   "cell_type": "code",
   "execution_count": 47,
   "id": "24d87424",
   "metadata": {},
   "outputs": [],
   "source": [
    "def get_model():\n",
    "    model=keras.Sequential([\n",
    "        keras.layers.Flatten(input_shape=(32,32,3)),\n",
    "        keras.layers.Dense(3000,activation='relu'),\n",
    "        keras.layers.Dense(1000,activation='relu'),\n",
    "        keras.layers.Dense(10,activation='sigmoid')\n",
    "    ])\n",
    "    model.compile(optimizer='SGD',\n",
    "             loss='categorical_crossentropy',\n",
    "             metrics=['accuracy'])\n",
    "    return model"
   ]
  },
  {
   "cell_type": "code",
   "execution_count": 49,
   "id": "dd67cdcf",
   "metadata": {},
   "outputs": [
    {
     "name": "stdout",
     "output_type": "stream",
     "text": [
      "1563/1563 [==============================] - 115s 73ms/step - loss: 1.8581 - accuracy: 0.3384\n",
      "2min 15s ± 0 ns per loop (mean ± std. dev. of 1 run, 1 loop each)\n"
     ]
    }
   ],
   "source": [
    "%%timeit -n1 -r1 \n",
    "with tf.device('/CPU:0'):\n",
    "    cpu_model = get_model()\n",
    "    cpu_model.fit(x_train_scaled, y_train_categorical, epochs=1)"
   ]
  },
  {
   "cell_type": "code",
   "execution_count": null,
   "id": "5e037dab",
   "metadata": {},
   "outputs": [],
   "source": []
  }
 ],
 "metadata": {
  "kernelspec": {
   "display_name": "Python 3",
   "language": "python",
   "name": "python3"
  },
  "language_info": {
   "codemirror_mode": {
    "name": "ipython",
    "version": 3
   },
   "file_extension": ".py",
   "mimetype": "text/x-python",
   "name": "python",
   "nbconvert_exporter": "python",
   "pygments_lexer": "ipython3",
   "version": "3.8.10"
  }
 },
 "nbformat": 4,
 "nbformat_minor": 5
}
