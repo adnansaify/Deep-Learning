{
  "nbformat": 4,
  "nbformat_minor": 0,
  "metadata": {
    "colab": {
      "name": "tensorboard.ipynb",
      "provenance": []
    },
    "kernelspec": {
      "name": "python3",
      "display_name": "Python 3"
    },
    "language_info": {
      "name": "python"
    }
  },
  "cells": [
    {
      "cell_type": "code",
      "metadata": {
        "id": "jtq4O6-RXstk"
      },
      "source": [
        "import tensorflow as tf\n",
        "import datetime\n",
        "from tensorboard.plugins.hparams import api as hp\n",
        "from tensorflow import keras\n",
        "import pandas as pd\n",
        "import numpy as np\n",
        "import matplotlib.pyplot as plt\n",
        "%matplotlib inline"
      ],
      "execution_count": 3,
      "outputs": []
    },
    {
      "cell_type": "code",
      "metadata": {
        "colab": {
          "base_uri": "https://localhost:8080/"
        },
        "id": "N-lle5uSXx7b",
        "outputId": "61707b2a-d13b-4ffd-9594-259526a2cd6f"
      },
      "source": [
        "(x_train,y_train),(x_test,y_test)=keras.datasets.mnist.load_data()"
      ],
      "execution_count": 4,
      "outputs": [
        {
          "output_type": "stream",
          "name": "stdout",
          "text": [
            "Downloading data from https://storage.googleapis.com/tensorflow/tf-keras-datasets/mnist.npz\n",
            "11493376/11490434 [==============================] - 0s 0us/step\n",
            "11501568/11490434 [==============================] - 0s 0us/step\n"
          ]
        }
      ]
    },
    {
      "cell_type": "code",
      "metadata": {
        "id": "78qTaG-RX0ME"
      },
      "source": [
        "flattend_x_train=x_train.reshape(len(x_train),28*28)"
      ],
      "execution_count": 5,
      "outputs": []
    },
    {
      "cell_type": "code",
      "metadata": {
        "id": "N6mX1C7dYFGk"
      },
      "source": [
        "flattend_x_test=x_test.reshape(len(x_test),28*28)"
      ],
      "execution_count": 6,
      "outputs": []
    },
    {
      "cell_type": "code",
      "metadata": {
        "colab": {
          "base_uri": "https://localhost:8080/"
        },
        "id": "cEeuBNe4YMuq",
        "outputId": "1b7d468d-24a5-4ff5-e7c0-c0c5bf2691d8"
      },
      "source": [
        "model=keras.Sequential([\n",
        "    keras.layers.Flatten(input_shape=(28,28)),\n",
        "    keras.layers.Dense(100,input_shape=(784,),activation='relu'),\n",
        "    keras.layers.Dense(10,activation='sigmoid')\n",
        "])\n",
        "\n",
        "tb_callback=tf.keras.callbacks.TensorBoard(log_dir=\"logs/sgd\",histogram_freq=1)\n",
        "model.compile(\n",
        "    optimizer='adam',\n",
        "    loss='sparse_categorical_crossentropy',\n",
        "    metrics=['accuracy']\n",
        ")\n",
        "model.fit(x_train,y_train,epochs=5,callbacks=[tb_callback])"
      ],
      "execution_count": 18,
      "outputs": [
        {
          "output_type": "stream",
          "name": "stdout",
          "text": [
            "Epoch 1/5\n",
            "1875/1875 [==============================] - 5s 2ms/step - loss: 0.2724 - accuracy: 0.9229\n",
            "Epoch 2/5\n",
            "1875/1875 [==============================] - 4s 2ms/step - loss: 0.1268 - accuracy: 0.9633\n",
            "Epoch 3/5\n",
            "1875/1875 [==============================] - 4s 2ms/step - loss: 0.0886 - accuracy: 0.9739\n",
            "Epoch 4/5\n",
            "1875/1875 [==============================] - 4s 2ms/step - loss: 0.0680 - accuracy: 0.9792\n",
            "Epoch 5/5\n",
            "1875/1875 [==============================] - 4s 2ms/step - loss: 0.0535 - accuracy: 0.9840\n"
          ]
        },
        {
          "output_type": "execute_result",
          "data": {
            "text/plain": [
              "<keras.callbacks.History at 0x7fd93024ce10>"
            ]
          },
          "metadata": {},
          "execution_count": 18
        }
      ]
    },
    {
      "cell_type": "code",
      "metadata": {
        "colab": {
          "base_uri": "https://localhost:8080/"
        },
        "id": "FwJ57yfzY0XV",
        "outputId": "3d4aa0d6-4743-4880-f306-a0d99f023c48"
      },
      "source": [
        "!tensorboard dev upload --logdir ./logs \\\n",
        "  --name \"Simple experiment with MNIST\" \\\n",
        "  --description \"Training results from https://colab.research.google.com/drive/17ntDdkhSygxLKjhpb6PR79K5riGWOPjU#scrollTo=FwJ57yfzY0XV\" \\\n",
        "  --one_shot"
      ],
      "execution_count": 21,
      "outputs": [
        {
          "output_type": "stream",
          "name": "stdout",
          "text": [
            "2021-10-20 11:30:25.759824: E tensorflow/stream_executor/cuda/cuda_driver.cc:271] failed call to cuInit: CUDA_ERROR_NO_DEVICE: no CUDA-capable device is detected\n",
            "2021-10-20 11:30:25.759896: I tensorflow/stream_executor/cuda/cuda_diagnostics.cc:156] kernel driver does not appear to be running on this host (85dab5a6cb61): /proc/driver/nvidia/version does not exist\n",
            "\n",
            "New experiment created. View your TensorBoard at: https://tensorboard.dev/experiment/WhjOEGjqTjOXQjPtx4GP4A/\n",
            "\n",
            "\u001b[1m[2021-10-20T11:30:26]\u001b[0m Started scanning logdir.\n",
            "E1020 11:30:29.818132 139964249995136 uploader.py:1122] Attempted to re-upload existing blob.  Skipping.\n",
            "E1020 11:30:30.958722 139964249995136 uploader.py:1122] Attempted to re-upload existing blob.  Skipping.\n",
            "E1020 11:30:31.939835 139964249995136 uploader.py:1122] Attempted to re-upload existing blob.  Skipping.\n",
            "\u001b[1m[2021-10-20T11:30:32]\u001b[0m Total uploaded: 52 scalars, 104 tensors (74.6 kB), 3 binary objects (79.3 kB)\n",
            "\u001b[90mTotal skipped: 3 binary objects (84.5 kB)\n",
            "\u001b[0m\u001b[1m[2021-10-20T11:30:32]\u001b[0m Done scanning logdir.\n",
            "\n",
            "\n",
            "Done. View your TensorBoard at https://tensorboard.dev/experiment/WhjOEGjqTjOXQjPtx4GP4A/\n"
          ]
        }
      ]
    },
    {
      "cell_type": "code",
      "metadata": {
        "colab": {
          "base_uri": "https://localhost:8080/"
        },
        "id": "M1yVg7u7ZsTh",
        "outputId": "965e0cb7-c240-4d46-869c-5da076fd49df"
      },
      "source": [
        "model=keras.Sequential([\n",
        "    keras.layers.Flatten(input_shape=(28,28)),\n",
        "    keras.layers.Dense(100,input_shape=(784,),activation='relu'),\n",
        "    keras.layers.Dense(10,activation='sigmoid')\n",
        "])\n",
        "\n",
        "tb_callback=tf.keras.callbacks.TensorBoard(log_dir=\"logs/adam\",histogram_freq=1)\n",
        "model.compile(\n",
        "    optimizer='adam',\n",
        "    loss='sparse_categorical_crossentropy',\n",
        "    metrics=['accuracy']\n",
        ")\n",
        "model.fit(x_train,y_train,epochs=5,callbacks=[tb_callback])"
      ],
      "execution_count": 22,
      "outputs": [
        {
          "output_type": "stream",
          "name": "stdout",
          "text": [
            "Epoch 1/5\n",
            "1875/1875 [==============================] - 4s 2ms/step - loss: 0.2711 - accuracy: 0.9223\n",
            "Epoch 2/5\n",
            "1875/1875 [==============================] - 4s 2ms/step - loss: 0.1210 - accuracy: 0.9642\n",
            "Epoch 3/5\n",
            "1875/1875 [==============================] - 4s 2ms/step - loss: 0.0836 - accuracy: 0.9758\n",
            "Epoch 4/5\n",
            "1875/1875 [==============================] - 4s 2ms/step - loss: 0.0628 - accuracy: 0.9813\n",
            "Epoch 5/5\n",
            "1875/1875 [==============================] - 4s 2ms/step - loss: 0.0506 - accuracy: 0.9850\n"
          ]
        },
        {
          "output_type": "execute_result",
          "data": {
            "text/plain": [
              "<keras.callbacks.History at 0x7fd930048910>"
            ]
          },
          "metadata": {},
          "execution_count": 22
        }
      ]
    },
    {
      "cell_type": "code",
      "metadata": {
        "colab": {
          "base_uri": "https://localhost:8080/"
        },
        "id": "VZQg_s15ac7T",
        "outputId": "339a9a5c-ffce-4bd5-ecb4-26b169933ac6"
      },
      "source": [
        "!tensorboard dev upload --logdir ./logs \\\n",
        "  --name \"random\" \\\n",
        "  --description \"Training results from https://colab.research.google.com/drive/17ntDdkhSygxLKjhpb6PR79K5riGWOPjU#scrollTo=2Wt2hOGicXHr\" \\\n",
        "  --one_shot"
      ],
      "execution_count": 23,
      "outputs": [
        {
          "output_type": "stream",
          "name": "stdout",
          "text": [
            "2021-10-20 11:31:01.396866: E tensorflow/stream_executor/cuda/cuda_driver.cc:271] failed call to cuInit: CUDA_ERROR_NO_DEVICE: no CUDA-capable device is detected\n",
            "2021-10-20 11:31:01.396934: I tensorflow/stream_executor/cuda/cuda_diagnostics.cc:156] kernel driver does not appear to be running on this host (85dab5a6cb61): /proc/driver/nvidia/version does not exist\n",
            "\n",
            "New experiment created. View your TensorBoard at: https://tensorboard.dev/experiment/e4RwSxr7Tvy8F8qBiwlNHA/\n",
            "\n",
            "\u001b[1m[2021-10-20T11:31:01]\u001b[0m Started scanning logdir.\n",
            "E1020 11:31:03.677892 140662846044032 uploader.py:1122] Attempted to re-upload existing blob.  Skipping.\n",
            "E1020 11:31:06.675148 140662846044032 uploader.py:1122] Attempted to re-upload existing blob.  Skipping.\n",
            "E1020 11:31:07.655415 140662846044032 uploader.py:1122] Attempted to re-upload existing blob.  Skipping.\n",
            "E1020 11:31:08.651845 140662846044032 uploader.py:1122] Attempted to re-upload existing blob.  Skipping.\n",
            "\u001b[1m[2021-10-20T11:31:09]\u001b[0m Total uploaded: 62 scalars, 124 tensors (89.0 kB), 3 binary objects (79.3 kB)\n",
            "\u001b[90mTotal skipped: 4 binary objects (112.6 kB)\n",
            "\u001b[0m\u001b[1m[2021-10-20T11:31:09]\u001b[0m Done scanning logdir.\n",
            "\n",
            "\n",
            "Done. View your TensorBoard at https://tensorboard.dev/experiment/e4RwSxr7Tvy8F8qBiwlNHA/\n"
          ]
        }
      ]
    },
    {
      "cell_type": "code",
      "metadata": {
        "id": "PBnMWeiOa4-X"
      },
      "source": [
        "mnist = tf.keras.datasets.mnist\n",
        "\n",
        "(x_train, y_train),(x_test, y_test) = mnist.load_data()\n",
        "x_train, x_test = x_train / 255.0, x_test / 255.0\n",
        "\n",
        "def create_model():\n",
        "  return tf.keras.models.Sequential([\n",
        "    tf.keras.layers.Flatten(input_shape=(28, 28)),\n",
        "    tf.keras.layers.Dense(512, activation='relu'),\n",
        "    tf.keras.layers.Dropout(0.2),\n",
        "    tf.keras.layers.Dense(10, activation='softmax')\n",
        "  ])"
      ],
      "execution_count": 13,
      "outputs": []
    },
    {
      "cell_type": "code",
      "metadata": {
        "colab": {
          "base_uri": "https://localhost:8080/"
        },
        "id": "2Wt2hOGicXHr",
        "outputId": "e54867e8-c2f3-4569-e7c7-6f356ab8f59a"
      },
      "source": [
        "!tensorboard dev upload --logdir ./logs \\\n",
        "  --name \"random\" \\\n",
        "  --description \"Training results from https://colab.research.google.com/drive/17ntDdkhSygxLKjhpb6PR79K5riGWOPjU#scrollTo=2Wt2hOGicXHr\" \\\n",
        "  --one_shot"
      ],
      "execution_count": 14,
      "outputs": [
        {
          "output_type": "stream",
          "name": "stdout",
          "text": [
            "2021-10-20 11:24:32.481909: E tensorflow/stream_executor/cuda/cuda_driver.cc:271] failed call to cuInit: CUDA_ERROR_NO_DEVICE: no CUDA-capable device is detected\n",
            "2021-10-20 11:24:32.481979: I tensorflow/stream_executor/cuda/cuda_diagnostics.cc:156] kernel driver does not appear to be running on this host (85dab5a6cb61): /proc/driver/nvidia/version does not exist\n",
            "\n",
            "New experiment created. View your TensorBoard at: https://tensorboard.dev/experiment/3JRNA97hRkG7n5UlkD4nGQ/\n",
            "\n",
            "\u001b[1m[2021-10-20T11:24:32]\u001b[0m Started scanning logdir.\n",
            "E1020 11:24:34.693594 140583642408832 uploader.py:1122] Attempted to re-upload existing blob.  Skipping.\n",
            "E1020 11:24:35.663466 140583642408832 uploader.py:1122] Attempted to re-upload existing blob.  Skipping.\n",
            "\u001b[1m[2021-10-20T11:24:36]\u001b[0m Total uploaded: 30 scalars, 60 tensors (43.1 kB), 1 binary objects (23.1 kB)\n",
            "\u001b[90mTotal skipped: 2 binary objects (56.4 kB)\n",
            "\u001b[0m\u001b[1m[2021-10-20T11:24:36]\u001b[0m Done scanning logdir.\n",
            "\n",
            "\n",
            "Done. View your TensorBoard at https://tensorboard.dev/experiment/3JRNA97hRkG7n5UlkD4nGQ/\n"
          ]
        }
      ]
    },
    {
      "cell_type": "code",
      "metadata": {
        "id": "RqVjqBtKcgqk"
      },
      "source": [
        ""
      ],
      "execution_count": null,
      "outputs": []
    }
  ]
}